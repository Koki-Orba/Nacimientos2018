{
 "cells": [
  {
   "cell_type": "markdown",
   "metadata": {},
   "source": [
    "# Introducción\n",
    "\n",
    "Los datos sobre nacimiento provienen de las estadísticas realizadas por el INEC, en el cual se refleja la frecuencia e intensidad en que ocurren los nacimientos en el país durante el año del 2018. Por otra parte, es posible conocer los perfiles de los niños, así como los datos propios del nacimiento. \n",
    "\n",
    "Las variables que son proporcionadas nos permiten, crear indicadores como lo son la tasa global de fecundidad, la tasa bruta de natalidad, así como realizar las estimaciones de población. \n",
    "\n",
    "Por tanto, se buscó predecir cual es el peso y la altura con la cual nace un bebe, basándose en las características que se arrojaron en las estadísticas. \n",
    "\n",
    "Cabe señalar, que los datos ingresado en el 2017, son los que se presentan en nuestro grupo de datos llamado “Nacimientos 2018”, pues busca tener los datos año con año, ya que para el 2017 existió un rezago con las estadísticas y se había utilizado los datos de los últimos 10 años."
   ]
  },
  {
   "cell_type": "markdown",
   "metadata": {},
   "source": [
    "# Objetivo\n",
    "\n",
    "## A. Objetivo General\n",
    "1. Predecir cual es el peso y la altura con la cual nace un bebe.\n",
    "\n",
    "## B. Objetivo Especifico\n",
    "1. Eliminar las variables inecesarias la tabla de datos.\n",
    "2. Explorar los datos.\n",
    "3. Establecer dos grupos datos los cuales uno es de entrenamiento y otro para pruebas.\n",
    "4. Determinar los valeres de peso y altura por medio de un algoritmo de predicción multi-etiqueta"
   ]
  },
  {
   "cell_type": "markdown",
   "metadata": {},
   "source": [
    "# Descripción de los datos \n",
    "\n",
    "El **titulo** que recibe esta tabla de datos es, \"Costa Rica: Total Nacimientos 2017 - 2018, Nacimientos ocurridos e inscritos en el periodo 2017 - 2018\", sin embargo se establece un **subtitulo** denominado, \"Nacimientos ocurridos e inscritos en el periodo 2018\"\n",
    "\n",
    "Estas tablas de datos del INEC, en Costa Rica esta a cargo de la Unidad de Estadísticas Demográficas (UED) que pertenece al Área de Censos y Encuestas del Instituto Nacional de Estadística y Censos.\n",
    "\n",
    "Dado que lo documentado es una estadística basada en registros administrativos es importante generar una estrategia de cuación para asi tener mejores indicadores de calidad, en los siguientes dos parrafos se mencionan algunas actividades que se llevan:\n",
    "\n",
    "- Se realizan cruces de variables importantes que identifiquen alguna relación que, aunque esté dentro de los rangos permitidos, el dato ya cruzado con otra variable pueda arrojar inconsistencias.\n",
    "\n",
    "- Durante el proceso de digitación el SISEVI se enlaza con la información del Tribunal Supremo de Elecciones por medio del número de cédula de la madre, y en su caso del padre, por lo que las variables: nombre de la madre, o del padre, edad, sexo y estado civil se cargan automáticamen\n",
    "\n",
    "Estos datos son recuperados en el mes de agosto del 2020, los cuales se encuentran en la pagina del [INEC](https://www.inec.go.cr/) bajo el nombre [Total Nacimientos 2017 - 2018](http://sistemas.inec.cr/pad5/index.php/catalog/254/get-microdata) en un formato **.sav** los cuales forman parte del Programa Acelerado de Datos INEC / Costa Rica., bajo los derechos reservados (El Instituto Nacional de Estadística y Censos (INEC) es el propietario de los derechos de la información metodológica y de las bases de datos aquí documentadas). La fecha de producción es **2020-05-27**\n"
   ]
  },
  {
   "cell_type": "markdown",
   "metadata": {},
   "source": [
    "# Instalamos las Librerias"
   ]
  },
  {
   "cell_type": "code",
   "execution_count": null,
   "metadata": {},
   "outputs": [],
   "source": [
    "#pip install sklearn\n",
    "#pip install pyreadstat"
   ]
  },
  {
   "cell_type": "markdown",
   "metadata": {},
   "source": [
    "# Importar librerias"
   ]
  },
  {
   "cell_type": "code",
   "execution_count": null,
   "metadata": {},
   "outputs": [],
   "source": [
    "import pandas as pd\n",
    "import pyreadstat\n",
    "import sklearn as skl \n",
    "\n"
   ]
  },
  {
   "cell_type": "code",
   "execution_count": 2,
   "metadata": {},
   "outputs": [],
   "source": [
    "from matplotlib import pyplot as plt\n",
    "from sklearn.model_selection import train_test_split\n",
    "from sklearn.neighbors import KNeighborsClassifier\n",
    "from sklearn.datasets import make_regression\n",
    "from sklearn.multioutput import MultiOutputRegressor\n",
    "from sklearn.ensemble import GradientBoostingRegressor\n",
    "from sklearn.metrics import confusion_matrix"
   ]
  },
  {
   "cell_type": "markdown",
   "metadata": {},
   "source": [
    "# Insertar datos\n"
   ]
  },
  {
   "cell_type": "code",
   "execution_count": 3,
   "metadata": {},
   "outputs": [],
   "source": [
    "df = pd.read_spss(\"nacimientos.sav\")"
   ]
  },
  {
   "cell_type": "markdown",
   "metadata": {},
   "source": [
    "Visualizamos todos los datos"
   ]
  },
  {
   "cell_type": "code",
   "execution_count": 4,
   "metadata": {},
   "outputs": [
    {
     "data": {
      "text/plain": [
       "Anotrab       category\n",
       "Mestrab       category\n",
       "Nacio         category\n",
       "Sexo          category\n",
       "Peso          category\n",
       "pesorec       category\n",
       "Estatura      category\n",
       "estrec        category\n",
       "Provocu       category\n",
       "Pcocu         category\n",
       "Pcdocu        category\n",
       "Instnac       category\n",
       "Dianac        category\n",
       "Mesnac        category\n",
       "Anonac        category\n",
       "Leyp          category\n",
       "Edadpad       category\n",
       "edpadrec      category\n",
       "Paispad       category\n",
       "Nacpad        category\n",
       "grocupad      category\n",
       "Nivedpad      category\n",
       "Hijtepad      category\n",
       "Escivpad      category\n",
       "Edadmad       category\n",
       "edmadrec      category\n",
       "Paismad       category\n",
       "Nacmad        category\n",
       "grocumad      category\n",
       "Nivedmad      category\n",
       "Escivmad      category\n",
       "Provincia     category\n",
       "Pc            category\n",
       "Pcd           category\n",
       "IU            category\n",
       "Reginec       category\n",
       "Regsalud      category\n",
       "Paratend      category\n",
       "Mesesemb      category\n",
       "Hijosten      category\n",
       "Abortos       category\n",
       "Totconsul     category\n",
       "Medcons       category\n",
       "Declara       category\n",
       "Provregis     category\n",
       "Pcregis       category\n",
       "Pcdregis      category\n",
       "Diadeclara    category\n",
       "Mesdeclara    category\n",
       "Anodeclara    category\n",
       "Filiacion     category\n",
       "Inscen        category\n",
       "dtype: object"
      ]
     },
     "execution_count": 4,
     "metadata": {},
     "output_type": "execute_result"
    }
   ],
   "source": [
    "df.dtypes"
   ]
  },
  {
   "cell_type": "markdown",
   "metadata": {},
   "source": [
    "## Crear DataFrame\n",
    "\n",
    "Primero se represento la variable \"X\" como la variable que contiene todas las variables predictoras, luego usamos la variable \"y\" para definir nuestras dos variables \"target\""
   ]
  },
  {
   "cell_type": "code",
   "execution_count": 5,
   "metadata": {},
   "outputs": [],
   "source": [
    "df = pd.DataFrame(df)\n",
    "X = df[['Nacio', 'Sexo','Leyp', 'grocupad', 'edmadrec', 'grocumad', 'IU', 'Mesesemb', 'Hijosten', 'Abortos', 'Medcons']]\n",
    "y = df[['pesorec', 'estrec']]"
   ]
  },
  {
   "cell_type": "code",
   "execution_count": 6,
   "metadata": {},
   "outputs": [
    {
     "data": {
      "text/html": [
       "<div>\n",
       "<style scoped>\n",
       "    .dataframe tbody tr th:only-of-type {\n",
       "        vertical-align: middle;\n",
       "    }\n",
       "\n",
       "    .dataframe tbody tr th {\n",
       "        vertical-align: top;\n",
       "    }\n",
       "\n",
       "    .dataframe thead th {\n",
       "        text-align: right;\n",
       "    }\n",
       "</style>\n",
       "<table border=\"1\" class=\"dataframe\">\n",
       "  <thead>\n",
       "    <tr style=\"text-align: right;\">\n",
       "      <th></th>\n",
       "      <th>Nacio</th>\n",
       "      <th>Sexo</th>\n",
       "      <th>Leyp</th>\n",
       "      <th>grocupad</th>\n",
       "      <th>edmadrec</th>\n",
       "      <th>grocumad</th>\n",
       "      <th>IU</th>\n",
       "      <th>Mesesemb</th>\n",
       "      <th>Hijosten</th>\n",
       "      <th>Abortos</th>\n",
       "      <th>Medcons</th>\n",
       "    </tr>\n",
       "  </thead>\n",
       "  <tbody>\n",
       "    <tr>\n",
       "      <th>0</th>\n",
       "      <td>Solo</td>\n",
       "      <td>Hombre</td>\n",
       "      <td>No se acoge a ley, pero asiente el reconocimiento</td>\n",
       "      <td>Ignorada</td>\n",
       "      <td>20 - 24</td>\n",
       "      <td>Técnicos y profesionales de nivel medio</td>\n",
       "      <td>Predominantemente urbano</td>\n",
       "      <td>4</td>\n",
       "      <td>2.0</td>\n",
       "      <td>0</td>\n",
       "      <td>3</td>\n",
       "    </tr>\n",
       "    <tr>\n",
       "      <th>1</th>\n",
       "      <td>Solo</td>\n",
       "      <td>Hombre</td>\n",
       "      <td>No se acoge a ley, pero asiente el reconocimiento</td>\n",
       "      <td>Ignorada</td>\n",
       "      <td>30 - 34</td>\n",
       "      <td>Administradora del hogar</td>\n",
       "      <td>Urbano</td>\n",
       "      <td>4</td>\n",
       "      <td>7.0</td>\n",
       "      <td>1</td>\n",
       "      <td>0</td>\n",
       "    </tr>\n",
       "    <tr>\n",
       "      <th>2</th>\n",
       "      <td>Solo</td>\n",
       "      <td>Mujer</td>\n",
       "      <td>Madre casada o padre presente</td>\n",
       "      <td>Ignorada</td>\n",
       "      <td>20 - 24</td>\n",
       "      <td>Administradora del hogar</td>\n",
       "      <td>Predominantemente urbano</td>\n",
       "      <td>5</td>\n",
       "      <td>2.0</td>\n",
       "      <td>0</td>\n",
       "      <td>2</td>\n",
       "    </tr>\n",
       "    <tr>\n",
       "      <th>3</th>\n",
       "      <td>Solo</td>\n",
       "      <td>Mujer</td>\n",
       "      <td>Madre casada o padre presente</td>\n",
       "      <td>Oficiales, operarios y artesanos de artes mecá...</td>\n",
       "      <td>30 - 34</td>\n",
       "      <td>Administradora del hogar</td>\n",
       "      <td>Urbano</td>\n",
       "      <td>5</td>\n",
       "      <td>2.0</td>\n",
       "      <td>0</td>\n",
       "      <td>4</td>\n",
       "    </tr>\n",
       "    <tr>\n",
       "      <th>4</th>\n",
       "      <td>Solo</td>\n",
       "      <td>Mujer</td>\n",
       "      <td>Madre casada o padre presente</td>\n",
       "      <td>Profesionales científicos e intelectuales</td>\n",
       "      <td>25 - 29</td>\n",
       "      <td>Administradora del hogar</td>\n",
       "      <td>Urbano</td>\n",
       "      <td>5</td>\n",
       "      <td>1.0</td>\n",
       "      <td>0</td>\n",
       "      <td>5</td>\n",
       "    </tr>\n",
       "  </tbody>\n",
       "</table>\n",
       "</div>"
      ],
      "text/plain": [
       "  Nacio    Sexo                                               Leyp  \\\n",
       "0  Solo  Hombre  No se acoge a ley, pero asiente el reconocimiento   \n",
       "1  Solo  Hombre  No se acoge a ley, pero asiente el reconocimiento   \n",
       "2  Solo   Mujer                      Madre casada o padre presente   \n",
       "3  Solo   Mujer                      Madre casada o padre presente   \n",
       "4  Solo   Mujer                      Madre casada o padre presente   \n",
       "\n",
       "                                            grocupad edmadrec  \\\n",
       "0                                           Ignorada  20 - 24   \n",
       "1                                           Ignorada  30 - 34   \n",
       "2                                           Ignorada  20 - 24   \n",
       "3  Oficiales, operarios y artesanos de artes mecá...  30 - 34   \n",
       "4          Profesionales científicos e intelectuales  25 - 29   \n",
       "\n",
       "                                  grocumad                        IU Mesesemb  \\\n",
       "0  Técnicos y profesionales de nivel medio  Predominantemente urbano        4   \n",
       "1                 Administradora del hogar                    Urbano        4   \n",
       "2                 Administradora del hogar  Predominantemente urbano        5   \n",
       "3                 Administradora del hogar                    Urbano        5   \n",
       "4                 Administradora del hogar                    Urbano        5   \n",
       "\n",
       "  Hijosten Abortos Medcons  \n",
       "0      2.0       0       3  \n",
       "1      7.0       1       0  \n",
       "2      2.0       0       2  \n",
       "3      2.0       0       4  \n",
       "4      1.0       0       5  "
      ]
     },
     "execution_count": 6,
     "metadata": {},
     "output_type": "execute_result"
    }
   ],
   "source": [
    "X.head()"
   ]
  },
  {
   "cell_type": "markdown",
   "metadata": {},
   "source": [
    "## Remplazar valores\n",
    "### Valores predictores \"X\""
   ]
  },
  {
   "cell_type": "code",
   "execution_count": 46,
   "metadata": {},
   "outputs": [],
   "source": [
    "X.Sexo.unique\n",
    "X.Sexo = X['Sexo'].replace(\n",
    "    ['Mujer', 'mujer'], '1').replace(\n",
    "    ['Hombre', 'hombre'], '0')"
   ]
  },
  {
   "cell_type": "code",
   "execution_count": 45,
   "metadata": {},
   "outputs": [],
   "source": [
    "X.Nacio.unique\n",
    "X.Nacio = X['Nacio'].replace(\n",
    "    ['Solo'], \"1\").replace(\n",
    "    ['Gemelo'], '2').replace(\n",
    "    ['Trillizo'],\"3\")"
   ]
  },
  {
   "cell_type": "code",
   "execution_count": 40,
   "metadata": {},
   "outputs": [
    {
     "data": {
      "text/plain": [
       "<bound method Series.unique of 0        2\n",
       "1        2\n",
       "2        0\n",
       "3        0\n",
       "4        0\n",
       "        ..\n",
       "68444    0\n",
       "68445    0\n",
       "68446    0\n",
       "68447    0\n",
       "68448    0\n",
       "Name: Leyp, Length: 68449, dtype: category\n",
       "Categories (4, object): ['0', '1', '2', '3']>"
      ]
     },
     "execution_count": 40,
     "metadata": {},
     "output_type": "execute_result"
    }
   ],
   "source": [
    "X.Leyp.unique\n",
    "X.Leyp = X['Leyp'].replace(\n",
    "    ['Madre casada o padre presente'], \"0\").replace(\n",
    "    ['Madre se acoge a Ley de Paternidad Respondable'], '1').replace(\n",
    "    ['No se acoge a ley, pero asiente el reconocimiento'],\"2\").replace(\n",
    "    ['Padre no declarado'],\"3\")"
   ]
  },
  {
   "cell_type": "code",
   "execution_count": 10,
   "metadata": {},
   "outputs": [],
   "source": [
    "X.grocupad.unique\n",
    "X.grocupad = X['grocupad'].replace(\n",
    "    ['Ignorada'], \"99\").replace(\n",
    "    ['Mal especificadas'], '1').replace(\n",
    "    ['Directores y gerentes'],\"2\").replace(\n",
    "    ['Profesionales científicos e intelectuales'],\"3\").replace(\n",
    "    ['Técnicos y profesionales de nivel medio'],\"4\").replace(\n",
    "    ['Personal de apoyo administrativo'],\"5\").replace(\n",
    "    ['Trabajadores de los servicios y vendedores de comercios y mercados'],\"6\").replace(\n",
    "    ['Agricultores y trabajadores calificados agropecuarios, forestales y pesqueros'],\"7\").replace(\n",
    "    ['Oficiales, operarios y artesanos de artes mecánicas y de otros oficios'],\"8\").replace(\n",
    "    ['Operadores de instalaciones y máquinas y ensambladores'],\"9\").replace(\n",
    "    ['Ocupaciones elementales'],\"10\").replace(\n",
    "    ['Estudiante'],\"11\").replace(\n",
    "    ['Pensionado'],\"12\").replace(\n",
    "    ['Persona con discapacidad'],\"13\").replace(\n",
    "    ['Padre no declarado'],\"14\").replace(\n",
    "    ['Desempleado'],\"15\").replace(\n",
    "    ['Privado de libertad'],\"16\")\n"
   ]
  },
  {
   "cell_type": "code",
   "execution_count": 11,
   "metadata": {},
   "outputs": [],
   "source": [
    "X.edmadrec.unique\n",
    "X.edmadrec = X['edmadrec'].replace(\n",
    "    ['Ignorada'], \"99\").replace(\n",
    "    ['Menos de 15'], '1').replace(\n",
    "    ['15 - 19'],\"2\").replace(\n",
    "    ['20 - 24'],\"3\").replace(\n",
    "    ['25 - 29'],\"4\").replace(\n",
    "    ['30 - 34'],\"5\").replace(\n",
    "    ['35 - 39'],\"6\").replace(\n",
    "    ['40 - 44'],\"7\").replace(\n",
    "    ['45 y más'],\"8\")"
   ]
  },
  {
   "cell_type": "code",
   "execution_count": 12,
   "metadata": {
    "scrolled": true
   },
   "outputs": [],
   "source": [
    "X.grocumad.unique\n",
    "X.grocumad = X['grocumad'].replace(\n",
    "    ['Ignorada'], \"99\").replace(\n",
    "    ['Mal especificadas'], '1').replace(\n",
    "    ['Directoras y gerentes'],\"2\").replace(\n",
    "    ['Profesionales científicas e intelectuales'],\"3\").replace(\n",
    "    ['Técnicos y profesionales de nivel medio'],\"4\").replace(\n",
    "    ['Personal de apoyo administrativo'],\"5\").replace(\n",
    "    ['Trabajadoras de los servicios y vendedoras de comercios y mercados'],\"6\").replace(\n",
    "    ['Agricultoras y trabajadoras calificadas agropecuarias, forestales y pesqueras'],\"7\").replace(\n",
    "    ['Oficiales, operarias y artesanas de artes mecánicas y de otros oficios'],\"8\").replace(\n",
    "    ['Operadoras de instalaciones y máquinas y ensambladoras'],\"9\").replace(\n",
    "    ['Ocupaciones elementales'],\"10\").replace(\n",
    "    ['Estudiante'],\"11\").replace(\n",
    "    ['Administradora del hogar'],\"12\").replace(\n",
    "    ['Pensionada'],\"13\").replace(\n",
    "    ['Desempleada'],\"14\").replace(\n",
    "    ['Privada de libertad'],\"15\")\n"
   ]
  },
  {
   "cell_type": "code",
   "execution_count": 13,
   "metadata": {},
   "outputs": [],
   "source": [
    "X.IU.unique\n",
    "X.IU = X['IU'].replace(\n",
    "    ['Predominantemente rural'], \"0\").replace(\n",
    "    ['Predominantemente urbano'], '2').replace(\n",
    "    ['Rural'],\"1\").replace(\n",
    "    ['Urbano'],\"3\")"
   ]
  },
  {
   "cell_type": "code",
   "execution_count": 14,
   "metadata": {},
   "outputs": [],
   "source": [
    "X.Abortos.unique\n",
    "X.Abortos = X['IU'].replace(\n",
    "    ['Ignorado'], \"99\")"
   ]
  },
  {
   "cell_type": "code",
   "execution_count": 15,
   "metadata": {},
   "outputs": [],
   "source": [
    "X.Medcons.unique\n",
    "X.Medcons = X['Medcons'].replace(\n",
    "    ['Ignorado'], \"99\")"
   ]
  },
  {
   "cell_type": "markdown",
   "metadata": {},
   "source": [
    "### Valor destino \"y\""
   ]
  },
  {
   "cell_type": "code",
   "execution_count": 16,
   "metadata": {},
   "outputs": [],
   "source": [
    "y.pesorec.unique\n",
    "y.pesorec = y['pesorec'].replace(\n",
    "    ['Ignorado'], \"99\").replace(\n",
    "    ['500 - 999'],\"0\").replace(\n",
    "    ['Menos de 500'], '1').replace(\n",
    "    ['1000 - 1499'],\"2\").replace(\n",
    "    ['1500 - 1999'],\"3\").replace(\n",
    "    ['2000 - 2499'],\"4\").replace(\n",
    "    ['2500 - 2999'],\"5\").replace(\n",
    "    ['3000 - 3499'],\"6\").replace(\n",
    "    ['3500 y más'],\"7\")"
   ]
  },
  {
   "cell_type": "code",
   "execution_count": 22,
   "metadata": {},
   "outputs": [],
   "source": [
    "y.estrec.unique\n",
    "y.estrec = y['estrec'].replace(\n",
    "    ['Ignorada'], \"99\").replace(\n",
    "    ['15 - 24'],\"0\").replace(\n",
    "    ['25 - 34'], '1').replace(\n",
    "    ['35 - 44'],\"2\").replace(\n",
    "    ['45 - 54'],\"3\").replace(\n",
    "    ['55 y más'],\"4\")\n"
   ]
  },
  {
   "cell_type": "code",
   "execution_count": 53,
   "metadata": {
    "scrolled": true
   },
   "outputs": [
    {
     "data": {
      "text/html": [
       "<div>\n",
       "<style scoped>\n",
       "    .dataframe tbody tr th:only-of-type {\n",
       "        vertical-align: middle;\n",
       "    }\n",
       "\n",
       "    .dataframe tbody tr th {\n",
       "        vertical-align: top;\n",
       "    }\n",
       "\n",
       "    .dataframe thead th {\n",
       "        text-align: right;\n",
       "    }\n",
       "</style>\n",
       "<table border=\"1\" class=\"dataframe\">\n",
       "  <thead>\n",
       "    <tr style=\"text-align: right;\">\n",
       "      <th></th>\n",
       "      <th>Nacio</th>\n",
       "      <th>Sexo</th>\n",
       "      <th>Leyp</th>\n",
       "      <th>grocupad</th>\n",
       "      <th>edmadrec</th>\n",
       "      <th>grocumad</th>\n",
       "      <th>IU</th>\n",
       "      <th>Mesesemb</th>\n",
       "      <th>Hijosten</th>\n",
       "      <th>Abortos</th>\n",
       "      <th>Medcons</th>\n",
       "    </tr>\n",
       "  </thead>\n",
       "  <tbody>\n",
       "    <tr>\n",
       "      <th>293</th>\n",
       "      <td>2</td>\n",
       "      <td>0</td>\n",
       "      <td>0</td>\n",
       "      <td>8</td>\n",
       "      <td>4</td>\n",
       "      <td>12</td>\n",
       "      <td>0</td>\n",
       "      <td>7</td>\n",
       "      <td>3.0</td>\n",
       "      <td>0</td>\n",
       "      <td>99</td>\n",
       "    </tr>\n",
       "    <tr>\n",
       "      <th>63025</th>\n",
       "      <td>1</td>\n",
       "      <td>0</td>\n",
       "      <td>0</td>\n",
       "      <td>5</td>\n",
       "      <td>5</td>\n",
       "      <td>4</td>\n",
       "      <td>3</td>\n",
       "      <td>9</td>\n",
       "      <td>1.0</td>\n",
       "      <td>3</td>\n",
       "      <td>9</td>\n",
       "    </tr>\n",
       "    <tr>\n",
       "      <th>56068</th>\n",
       "      <td>1</td>\n",
       "      <td>1</td>\n",
       "      <td>3</td>\n",
       "      <td>14</td>\n",
       "      <td>2</td>\n",
       "      <td>12</td>\n",
       "      <td>2</td>\n",
       "      <td>9</td>\n",
       "      <td>1.0</td>\n",
       "      <td>2</td>\n",
       "      <td>2</td>\n",
       "    </tr>\n",
       "    <tr>\n",
       "      <th>36956</th>\n",
       "      <td>1</td>\n",
       "      <td>0</td>\n",
       "      <td>2</td>\n",
       "      <td>99</td>\n",
       "      <td>4</td>\n",
       "      <td>3</td>\n",
       "      <td>3</td>\n",
       "      <td>9</td>\n",
       "      <td>1.0</td>\n",
       "      <td>3</td>\n",
       "      <td>8</td>\n",
       "    </tr>\n",
       "    <tr>\n",
       "      <th>65149</th>\n",
       "      <td>1</td>\n",
       "      <td>0</td>\n",
       "      <td>0</td>\n",
       "      <td>8</td>\n",
       "      <td>5</td>\n",
       "      <td>12</td>\n",
       "      <td>0</td>\n",
       "      <td>9</td>\n",
       "      <td>2.0</td>\n",
       "      <td>0</td>\n",
       "      <td>8</td>\n",
       "    </tr>\n",
       "    <tr>\n",
       "      <th>...</th>\n",
       "      <td>...</td>\n",
       "      <td>...</td>\n",
       "      <td>...</td>\n",
       "      <td>...</td>\n",
       "      <td>...</td>\n",
       "      <td>...</td>\n",
       "      <td>...</td>\n",
       "      <td>...</td>\n",
       "      <td>...</td>\n",
       "      <td>...</td>\n",
       "      <td>...</td>\n",
       "    </tr>\n",
       "    <tr>\n",
       "      <th>37194</th>\n",
       "      <td>1</td>\n",
       "      <td>1</td>\n",
       "      <td>0</td>\n",
       "      <td>10</td>\n",
       "      <td>4</td>\n",
       "      <td>12</td>\n",
       "      <td>0</td>\n",
       "      <td>9</td>\n",
       "      <td>1.0</td>\n",
       "      <td>0</td>\n",
       "      <td>9</td>\n",
       "    </tr>\n",
       "    <tr>\n",
       "      <th>6265</th>\n",
       "      <td>1</td>\n",
       "      <td>1</td>\n",
       "      <td>2</td>\n",
       "      <td>99</td>\n",
       "      <td>2</td>\n",
       "      <td>11</td>\n",
       "      <td>0</td>\n",
       "      <td>9</td>\n",
       "      <td>2.0</td>\n",
       "      <td>0</td>\n",
       "      <td>8</td>\n",
       "    </tr>\n",
       "    <tr>\n",
       "      <th>54886</th>\n",
       "      <td>1</td>\n",
       "      <td>1</td>\n",
       "      <td>3</td>\n",
       "      <td>14</td>\n",
       "      <td>3</td>\n",
       "      <td>12</td>\n",
       "      <td>3</td>\n",
       "      <td>9</td>\n",
       "      <td>2.0</td>\n",
       "      <td>3</td>\n",
       "      <td>99</td>\n",
       "    </tr>\n",
       "    <tr>\n",
       "      <th>860</th>\n",
       "      <td>1</td>\n",
       "      <td>0</td>\n",
       "      <td>2</td>\n",
       "      <td>99</td>\n",
       "      <td>3</td>\n",
       "      <td>12</td>\n",
       "      <td>2</td>\n",
       "      <td>6</td>\n",
       "      <td>1.0</td>\n",
       "      <td>2</td>\n",
       "      <td>6</td>\n",
       "    </tr>\n",
       "    <tr>\n",
       "      <th>15795</th>\n",
       "      <td>1</td>\n",
       "      <td>0</td>\n",
       "      <td>2</td>\n",
       "      <td>99</td>\n",
       "      <td>3</td>\n",
       "      <td>6</td>\n",
       "      <td>2</td>\n",
       "      <td>9</td>\n",
       "      <td>1.0</td>\n",
       "      <td>2</td>\n",
       "      <td>2</td>\n",
       "    </tr>\n",
       "  </tbody>\n",
       "</table>\n",
       "<p>54759 rows × 11 columns</p>\n",
       "</div>"
      ],
      "text/plain": [
       "      Nacio Sexo Leyp grocupad edmadrec grocumad IU Mesesemb Hijosten Abortos  \\\n",
       "293       2    0    0        8        4       12  0        7      3.0       0   \n",
       "63025     1    0    0        5        5        4  3        9      1.0       3   \n",
       "56068     1    1    3       14        2       12  2        9      1.0       2   \n",
       "36956     1    0    2       99        4        3  3        9      1.0       3   \n",
       "65149     1    0    0        8        5       12  0        9      2.0       0   \n",
       "...     ...  ...  ...      ...      ...      ... ..      ...      ...     ...   \n",
       "37194     1    1    0       10        4       12  0        9      1.0       0   \n",
       "6265      1    1    2       99        2       11  0        9      2.0       0   \n",
       "54886     1    1    3       14        3       12  3        9      2.0       3   \n",
       "860       1    0    2       99        3       12  2        6      1.0       2   \n",
       "15795     1    0    2       99        3        6  2        9      1.0       2   \n",
       "\n",
       "      Medcons  \n",
       "293        99  \n",
       "63025       9  \n",
       "56068       2  \n",
       "36956       8  \n",
       "65149       8  \n",
       "...       ...  \n",
       "37194       9  \n",
       "6265        8  \n",
       "54886      99  \n",
       "860         6  \n",
       "15795       2  \n",
       "\n",
       "[54759 rows x 11 columns]"
      ]
     },
     "execution_count": 53,
     "metadata": {},
     "output_type": "execute_result"
    }
   ],
   "source": []
  },
  {
   "cell_type": "markdown",
   "metadata": {},
   "source": [
    "# Preparación de los datos\n",
    "Se van a crear dos variables  a partir de una divición de los datos entre entrenamiento (**train**) y prueba (**test**) bajo el principio del 80/20"
   ]
  },
  {
   "cell_type": "code",
   "execution_count": 52,
   "metadata": {},
   "outputs": [],
   "source": [
    "X_train, X_test, y_train, y_test = train_test_split(X,y,test_size = 0.2, random_state=42)\n",
    "#print(X_train.describe())"
   ]
  },
  {
   "cell_type": "markdown",
   "metadata": {},
   "source": [
    "## Exploración de los datos"
   ]
  },
  {
   "cell_type": "code",
   "execution_count": 25,
   "metadata": {
    "scrolled": true
   },
   "outputs": [
    {
     "data": {
      "text/plain": [
       "Nacio       category\n",
       "Sexo        category\n",
       "Leyp        category\n",
       "grocupad    category\n",
       "edmadrec    category\n",
       "grocumad    category\n",
       "IU          category\n",
       "Mesesemb    category\n",
       "Hijosten    category\n",
       "Abortos     category\n",
       "Medcons     category\n",
       "dtype: object"
      ]
     },
     "execution_count": 25,
     "metadata": {},
     "output_type": "execute_result"
    }
   ],
   "source": [
    "X_train.dtypes"
   ]
  },
  {
   "cell_type": "code",
   "execution_count": null,
   "metadata": {},
   "outputs": [],
   "source": [
    "y_train.dtypes"
   ]
  },
  {
   "cell_type": "code",
   "execution_count": 26,
   "metadata": {
    "scrolled": true
   },
   "outputs": [
    {
     "data": {
      "text/html": [
       "<div>\n",
       "<style scoped>\n",
       "    .dataframe tbody tr th:only-of-type {\n",
       "        vertical-align: middle;\n",
       "    }\n",
       "\n",
       "    .dataframe tbody tr th {\n",
       "        vertical-align: top;\n",
       "    }\n",
       "\n",
       "    .dataframe thead th {\n",
       "        text-align: right;\n",
       "    }\n",
       "</style>\n",
       "<table border=\"1\" class=\"dataframe\">\n",
       "  <thead>\n",
       "    <tr style=\"text-align: right;\">\n",
       "      <th></th>\n",
       "      <th>Nacio</th>\n",
       "      <th>Sexo</th>\n",
       "      <th>Leyp</th>\n",
       "      <th>grocupad</th>\n",
       "      <th>edmadrec</th>\n",
       "      <th>grocumad</th>\n",
       "      <th>IU</th>\n",
       "      <th>Mesesemb</th>\n",
       "      <th>Hijosten</th>\n",
       "      <th>Abortos</th>\n",
       "      <th>Medcons</th>\n",
       "    </tr>\n",
       "  </thead>\n",
       "  <tbody>\n",
       "    <tr>\n",
       "      <th>293</th>\n",
       "      <td>2</td>\n",
       "      <td>0</td>\n",
       "      <td>0</td>\n",
       "      <td>8</td>\n",
       "      <td>4</td>\n",
       "      <td>12</td>\n",
       "      <td>0</td>\n",
       "      <td>7</td>\n",
       "      <td>3.0</td>\n",
       "      <td>0</td>\n",
       "      <td>99</td>\n",
       "    </tr>\n",
       "    <tr>\n",
       "      <th>63025</th>\n",
       "      <td>1</td>\n",
       "      <td>0</td>\n",
       "      <td>0</td>\n",
       "      <td>5</td>\n",
       "      <td>5</td>\n",
       "      <td>4</td>\n",
       "      <td>3</td>\n",
       "      <td>9</td>\n",
       "      <td>1.0</td>\n",
       "      <td>3</td>\n",
       "      <td>9</td>\n",
       "    </tr>\n",
       "    <tr>\n",
       "      <th>56068</th>\n",
       "      <td>1</td>\n",
       "      <td>1</td>\n",
       "      <td>3</td>\n",
       "      <td>14</td>\n",
       "      <td>2</td>\n",
       "      <td>12</td>\n",
       "      <td>2</td>\n",
       "      <td>9</td>\n",
       "      <td>1.0</td>\n",
       "      <td>2</td>\n",
       "      <td>2</td>\n",
       "    </tr>\n",
       "    <tr>\n",
       "      <th>36956</th>\n",
       "      <td>1</td>\n",
       "      <td>0</td>\n",
       "      <td>2</td>\n",
       "      <td>99</td>\n",
       "      <td>4</td>\n",
       "      <td>3</td>\n",
       "      <td>3</td>\n",
       "      <td>9</td>\n",
       "      <td>1.0</td>\n",
       "      <td>3</td>\n",
       "      <td>8</td>\n",
       "    </tr>\n",
       "    <tr>\n",
       "      <th>65149</th>\n",
       "      <td>1</td>\n",
       "      <td>0</td>\n",
       "      <td>0</td>\n",
       "      <td>8</td>\n",
       "      <td>5</td>\n",
       "      <td>12</td>\n",
       "      <td>0</td>\n",
       "      <td>9</td>\n",
       "      <td>2.0</td>\n",
       "      <td>0</td>\n",
       "      <td>8</td>\n",
       "    </tr>\n",
       "  </tbody>\n",
       "</table>\n",
       "</div>"
      ],
      "text/plain": [
       "      Nacio Sexo Leyp grocupad edmadrec grocumad IU Mesesemb Hijosten Abortos  \\\n",
       "293       2    0    0        8        4       12  0        7      3.0       0   \n",
       "63025     1    0    0        5        5        4  3        9      1.0       3   \n",
       "56068     1    1    3       14        2       12  2        9      1.0       2   \n",
       "36956     1    0    2       99        4        3  3        9      1.0       3   \n",
       "65149     1    0    0        8        5       12  0        9      2.0       0   \n",
       "\n",
       "      Medcons  \n",
       "293        99  \n",
       "63025       9  \n",
       "56068       2  \n",
       "36956       8  \n",
       "65149       8  "
      ]
     },
     "execution_count": 26,
     "metadata": {},
     "output_type": "execute_result"
    }
   ],
   "source": [
    "X_train.head()"
   ]
  },
  {
   "cell_type": "code",
   "execution_count": null,
   "metadata": {},
   "outputs": [],
   "source": [
    "y_train.head()"
   ]
  },
  {
   "cell_type": "markdown",
   "metadata": {},
   "source": [
    "## Perfilado de los datos de entrenamiento\n"
   ]
  },
  {
   "cell_type": "code",
   "execution_count": null,
   "metadata": {},
   "outputs": [],
   "source": [
    "df.describe()"
   ]
  },
  {
   "cell_type": "code",
   "execution_count": null,
   "metadata": {},
   "outputs": [],
   "source": [
    "df.tail()"
   ]
  },
  {
   "cell_type": "code",
   "execution_count": null,
   "metadata": {},
   "outputs": [],
   "source": []
  },
  {
   "cell_type": "markdown",
   "metadata": {},
   "source": [
    "# Regresión Multi Salida"
   ]
  },
  {
   "cell_type": "code",
   "execution_count": 55,
   "metadata": {},
   "outputs": [
    {
     "ename": "ValueError",
     "evalue": "could not convert string to float: 'Ignorado'",
     "output_type": "error",
     "traceback": [
      "\u001b[0;31m---------------------------------------------------------------------------\u001b[0m",
      "\u001b[0;31mValueError\u001b[0m                                Traceback (most recent call last)",
      "\u001b[0;32m<ipython-input-55-e1279567f0a1>\u001b[0m in \u001b[0;36m<module>\u001b[0;34m\u001b[0m\n\u001b[1;32m      1\u001b[0m MultiOutputRegressor(\n\u001b[0;32m----> 2\u001b[0;31m     GradientBoostingRegressor(random_state=1)).fit(X_train, y_train).score(X_train, y_train)\n\u001b[0m",
      "\u001b[0;32m/home/koki/snap/jupyter/common/lib/python3.7/site-packages/sklearn/multioutput.py\u001b[0m in \u001b[0;36mfit\u001b[0;34m(self, X, y, sample_weight, **fit_params)\u001b[0m\n\u001b[1;32m    154\u001b[0m                              \" a fit method\")\n\u001b[1;32m    155\u001b[0m \u001b[0;34m\u001b[0m\u001b[0m\n\u001b[0;32m--> 156\u001b[0;31m         \u001b[0mX\u001b[0m\u001b[0;34m,\u001b[0m \u001b[0my\u001b[0m \u001b[0;34m=\u001b[0m \u001b[0mself\u001b[0m\u001b[0;34m.\u001b[0m\u001b[0m_validate_data\u001b[0m\u001b[0;34m(\u001b[0m\u001b[0mX\u001b[0m\u001b[0;34m,\u001b[0m \u001b[0my\u001b[0m\u001b[0;34m,\u001b[0m \u001b[0mmulti_output\u001b[0m\u001b[0;34m=\u001b[0m\u001b[0;32mTrue\u001b[0m\u001b[0;34m,\u001b[0m \u001b[0maccept_sparse\u001b[0m\u001b[0;34m=\u001b[0m\u001b[0;32mTrue\u001b[0m\u001b[0;34m)\u001b[0m\u001b[0;34m\u001b[0m\u001b[0;34m\u001b[0m\u001b[0m\n\u001b[0m\u001b[1;32m    157\u001b[0m \u001b[0;34m\u001b[0m\u001b[0m\n\u001b[1;32m    158\u001b[0m         \u001b[0;32mif\u001b[0m \u001b[0mis_classifier\u001b[0m\u001b[0;34m(\u001b[0m\u001b[0mself\u001b[0m\u001b[0;34m)\u001b[0m\u001b[0;34m:\u001b[0m\u001b[0;34m\u001b[0m\u001b[0;34m\u001b[0m\u001b[0m\n",
      "\u001b[0;32m/home/koki/snap/jupyter/common/lib/python3.7/site-packages/sklearn/base.py\u001b[0m in \u001b[0;36m_validate_data\u001b[0;34m(self, X, y, reset, validate_separately, **check_params)\u001b[0m\n\u001b[1;32m    430\u001b[0m                 \u001b[0my\u001b[0m \u001b[0;34m=\u001b[0m \u001b[0mcheck_array\u001b[0m\u001b[0;34m(\u001b[0m\u001b[0my\u001b[0m\u001b[0;34m,\u001b[0m \u001b[0;34m**\u001b[0m\u001b[0mcheck_y_params\u001b[0m\u001b[0;34m)\u001b[0m\u001b[0;34m\u001b[0m\u001b[0;34m\u001b[0m\u001b[0m\n\u001b[1;32m    431\u001b[0m             \u001b[0;32melse\u001b[0m\u001b[0;34m:\u001b[0m\u001b[0;34m\u001b[0m\u001b[0;34m\u001b[0m\u001b[0m\n\u001b[0;32m--> 432\u001b[0;31m                 \u001b[0mX\u001b[0m\u001b[0;34m,\u001b[0m \u001b[0my\u001b[0m \u001b[0;34m=\u001b[0m \u001b[0mcheck_X_y\u001b[0m\u001b[0;34m(\u001b[0m\u001b[0mX\u001b[0m\u001b[0;34m,\u001b[0m \u001b[0my\u001b[0m\u001b[0;34m,\u001b[0m \u001b[0;34m**\u001b[0m\u001b[0mcheck_params\u001b[0m\u001b[0;34m)\u001b[0m\u001b[0;34m\u001b[0m\u001b[0;34m\u001b[0m\u001b[0m\n\u001b[0m\u001b[1;32m    433\u001b[0m             \u001b[0mout\u001b[0m \u001b[0;34m=\u001b[0m \u001b[0mX\u001b[0m\u001b[0;34m,\u001b[0m \u001b[0my\u001b[0m\u001b[0;34m\u001b[0m\u001b[0;34m\u001b[0m\u001b[0m\n\u001b[1;32m    434\u001b[0m \u001b[0;34m\u001b[0m\u001b[0m\n",
      "\u001b[0;32m/home/koki/snap/jupyter/common/lib/python3.7/site-packages/sklearn/utils/validation.py\u001b[0m in \u001b[0;36minner_f\u001b[0;34m(*args, **kwargs)\u001b[0m\n\u001b[1;32m     70\u001b[0m                           FutureWarning)\n\u001b[1;32m     71\u001b[0m         \u001b[0mkwargs\u001b[0m\u001b[0;34m.\u001b[0m\u001b[0mupdate\u001b[0m\u001b[0;34m(\u001b[0m\u001b[0;34m{\u001b[0m\u001b[0mk\u001b[0m\u001b[0;34m:\u001b[0m \u001b[0marg\u001b[0m \u001b[0;32mfor\u001b[0m \u001b[0mk\u001b[0m\u001b[0;34m,\u001b[0m \u001b[0marg\u001b[0m \u001b[0;32min\u001b[0m \u001b[0mzip\u001b[0m\u001b[0;34m(\u001b[0m\u001b[0msig\u001b[0m\u001b[0;34m.\u001b[0m\u001b[0mparameters\u001b[0m\u001b[0;34m,\u001b[0m \u001b[0margs\u001b[0m\u001b[0;34m)\u001b[0m\u001b[0;34m}\u001b[0m\u001b[0;34m)\u001b[0m\u001b[0;34m\u001b[0m\u001b[0;34m\u001b[0m\u001b[0m\n\u001b[0;32m---> 72\u001b[0;31m         \u001b[0;32mreturn\u001b[0m \u001b[0mf\u001b[0m\u001b[0;34m(\u001b[0m\u001b[0;34m**\u001b[0m\u001b[0mkwargs\u001b[0m\u001b[0;34m)\u001b[0m\u001b[0;34m\u001b[0m\u001b[0;34m\u001b[0m\u001b[0m\n\u001b[0m\u001b[1;32m     73\u001b[0m     \u001b[0;32mreturn\u001b[0m \u001b[0minner_f\u001b[0m\u001b[0;34m\u001b[0m\u001b[0;34m\u001b[0m\u001b[0m\n\u001b[1;32m     74\u001b[0m \u001b[0;34m\u001b[0m\u001b[0m\n",
      "\u001b[0;32m/home/koki/snap/jupyter/common/lib/python3.7/site-packages/sklearn/utils/validation.py\u001b[0m in \u001b[0;36mcheck_X_y\u001b[0;34m(X, y, accept_sparse, accept_large_sparse, dtype, order, copy, force_all_finite, ensure_2d, allow_nd, multi_output, ensure_min_samples, ensure_min_features, y_numeric, estimator)\u001b[0m\n\u001b[1;32m    800\u001b[0m                     \u001b[0mensure_min_samples\u001b[0m\u001b[0;34m=\u001b[0m\u001b[0mensure_min_samples\u001b[0m\u001b[0;34m,\u001b[0m\u001b[0;34m\u001b[0m\u001b[0;34m\u001b[0m\u001b[0m\n\u001b[1;32m    801\u001b[0m                     \u001b[0mensure_min_features\u001b[0m\u001b[0;34m=\u001b[0m\u001b[0mensure_min_features\u001b[0m\u001b[0;34m,\u001b[0m\u001b[0;34m\u001b[0m\u001b[0;34m\u001b[0m\u001b[0m\n\u001b[0;32m--> 802\u001b[0;31m                     estimator=estimator)\n\u001b[0m\u001b[1;32m    803\u001b[0m     \u001b[0;32mif\u001b[0m \u001b[0mmulti_output\u001b[0m\u001b[0;34m:\u001b[0m\u001b[0;34m\u001b[0m\u001b[0;34m\u001b[0m\u001b[0m\n\u001b[1;32m    804\u001b[0m         y = check_array(y, accept_sparse='csr', force_all_finite=True,\n",
      "\u001b[0;32m/home/koki/snap/jupyter/common/lib/python3.7/site-packages/sklearn/utils/validation.py\u001b[0m in \u001b[0;36minner_f\u001b[0;34m(*args, **kwargs)\u001b[0m\n\u001b[1;32m     70\u001b[0m                           FutureWarning)\n\u001b[1;32m     71\u001b[0m         \u001b[0mkwargs\u001b[0m\u001b[0;34m.\u001b[0m\u001b[0mupdate\u001b[0m\u001b[0;34m(\u001b[0m\u001b[0;34m{\u001b[0m\u001b[0mk\u001b[0m\u001b[0;34m:\u001b[0m \u001b[0marg\u001b[0m \u001b[0;32mfor\u001b[0m \u001b[0mk\u001b[0m\u001b[0;34m,\u001b[0m \u001b[0marg\u001b[0m \u001b[0;32min\u001b[0m \u001b[0mzip\u001b[0m\u001b[0;34m(\u001b[0m\u001b[0msig\u001b[0m\u001b[0;34m.\u001b[0m\u001b[0mparameters\u001b[0m\u001b[0;34m,\u001b[0m \u001b[0margs\u001b[0m\u001b[0;34m)\u001b[0m\u001b[0;34m}\u001b[0m\u001b[0;34m)\u001b[0m\u001b[0;34m\u001b[0m\u001b[0;34m\u001b[0m\u001b[0m\n\u001b[0;32m---> 72\u001b[0;31m         \u001b[0;32mreturn\u001b[0m \u001b[0mf\u001b[0m\u001b[0;34m(\u001b[0m\u001b[0;34m**\u001b[0m\u001b[0mkwargs\u001b[0m\u001b[0;34m)\u001b[0m\u001b[0;34m\u001b[0m\u001b[0;34m\u001b[0m\u001b[0m\n\u001b[0m\u001b[1;32m     73\u001b[0m     \u001b[0;32mreturn\u001b[0m \u001b[0minner_f\u001b[0m\u001b[0;34m\u001b[0m\u001b[0;34m\u001b[0m\u001b[0m\n\u001b[1;32m     74\u001b[0m \u001b[0;34m\u001b[0m\u001b[0m\n",
      "\u001b[0;32m/home/koki/snap/jupyter/common/lib/python3.7/site-packages/sklearn/utils/validation.py\u001b[0m in \u001b[0;36mcheck_array\u001b[0;34m(array, accept_sparse, accept_large_sparse, dtype, order, copy, force_all_finite, ensure_2d, allow_nd, ensure_min_samples, ensure_min_features, estimator)\u001b[0m\n\u001b[1;32m    636\u001b[0m         \u001b[0;31m# make sure we actually converted to numeric:\u001b[0m\u001b[0;34m\u001b[0m\u001b[0;34m\u001b[0m\u001b[0;34m\u001b[0m\u001b[0m\n\u001b[1;32m    637\u001b[0m         \u001b[0;32mif\u001b[0m \u001b[0mdtype_numeric\u001b[0m \u001b[0;32mand\u001b[0m \u001b[0marray\u001b[0m\u001b[0;34m.\u001b[0m\u001b[0mdtype\u001b[0m\u001b[0;34m.\u001b[0m\u001b[0mkind\u001b[0m \u001b[0;34m==\u001b[0m \u001b[0;34m\"O\"\u001b[0m\u001b[0;34m:\u001b[0m\u001b[0;34m\u001b[0m\u001b[0;34m\u001b[0m\u001b[0m\n\u001b[0;32m--> 638\u001b[0;31m             \u001b[0marray\u001b[0m \u001b[0;34m=\u001b[0m \u001b[0marray\u001b[0m\u001b[0;34m.\u001b[0m\u001b[0mastype\u001b[0m\u001b[0;34m(\u001b[0m\u001b[0mnp\u001b[0m\u001b[0;34m.\u001b[0m\u001b[0mfloat64\u001b[0m\u001b[0;34m)\u001b[0m\u001b[0;34m\u001b[0m\u001b[0;34m\u001b[0m\u001b[0m\n\u001b[0m\u001b[1;32m    639\u001b[0m         \u001b[0;32mif\u001b[0m \u001b[0;32mnot\u001b[0m \u001b[0mallow_nd\u001b[0m \u001b[0;32mand\u001b[0m \u001b[0marray\u001b[0m\u001b[0;34m.\u001b[0m\u001b[0mndim\u001b[0m \u001b[0;34m>=\u001b[0m \u001b[0;36m3\u001b[0m\u001b[0;34m:\u001b[0m\u001b[0;34m\u001b[0m\u001b[0;34m\u001b[0m\u001b[0m\n\u001b[1;32m    640\u001b[0m             raise ValueError(\"Found array with dim %d. %s expected <= 2.\"\n",
      "\u001b[0;31mValueError\u001b[0m: could not convert string to float: 'Ignorado'"
     ]
    }
   ],
   "source": [
    "MultiOutputRegressor(\n",
    "    GradientBoostingRegressor(random_state=0)).fit(X_train, y_train).score(X_train, y_train)"
   ]
  }
 ],
 "metadata": {
  "kernelspec": {
   "display_name": "Python 3",
   "language": "python",
   "name": "python3"
  },
  "language_info": {
   "codemirror_mode": {
    "name": "ipython",
    "version": 3
   },
   "file_extension": ".py",
   "mimetype": "text/x-python",
   "name": "python",
   "nbconvert_exporter": "python",
   "pygments_lexer": "ipython3",
   "version": "3.7.3"
  }
 },
 "nbformat": 4,
 "nbformat_minor": 2
}
